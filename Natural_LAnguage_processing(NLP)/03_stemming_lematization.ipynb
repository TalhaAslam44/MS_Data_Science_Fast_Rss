{
 "cells": [
  {
   "cell_type": "markdown",
   "metadata": {},
   "source": [
    "<h3>Stemming in NLTK</h3>"
   ]
  },
  {
   "cell_type": "code",
   "execution_count": 2,
   "metadata": {},
   "outputs": [
    {
     "name": "stdout",
     "output_type": "stream",
     "text": [
      "Collecting nltk\n",
      "  Downloading nltk-3.9.1-py3-none-any.whl.metadata (2.9 kB)\n",
      "Requirement already satisfied: click in c:\\users\\user\\anaconda3\\envs\\python\\lib\\site-packages (from nltk) (8.2.1)\n",
      "Requirement already satisfied: joblib in c:\\users\\user\\anaconda3\\envs\\python\\lib\\site-packages (from nltk) (1.4.2)\n",
      "Collecting regex>=2021.8.3 (from nltk)\n",
      "  Downloading regex-2025.9.18-cp313-cp313-win_amd64.whl.metadata (41 kB)\n",
      "Requirement already satisfied: tqdm in c:\\users\\user\\anaconda3\\envs\\python\\lib\\site-packages (from nltk) (4.67.1)\n",
      "Requirement already satisfied: colorama in c:\\users\\user\\appdata\\roaming\\python\\python313\\site-packages (from click->nltk) (0.4.6)\n",
      "Downloading nltk-3.9.1-py3-none-any.whl (1.5 MB)\n",
      "   ---------------------------------------- 0.0/1.5 MB ? eta -:--:--\n",
      "   ---------------------------------------- 0.0/1.5 MB ? eta -:--:--\n",
      "   ---------------------------------------- 0.0/1.5 MB ? eta -:--:--\n",
      "   ------ --------------------------------- 0.3/1.5 MB ? eta -:--:--\n",
      "   ------ --------------------------------- 0.3/1.5 MB ? eta -:--:--\n",
      "   ------------- -------------------------- 0.5/1.5 MB 583.2 kB/s eta 0:00:02\n",
      "   ------------- -------------------------- 0.5/1.5 MB 583.2 kB/s eta 0:00:02\n",
      "   -------------------- ------------------- 0.8/1.5 MB 670.3 kB/s eta 0:00:02\n",
      "   --------------------------- ------------ 1.0/1.5 MB 719.0 kB/s eta 0:00:01\n",
      "   --------------------------- ------------ 1.0/1.5 MB 719.0 kB/s eta 0:00:01\n",
      "   ---------------------------------- ----- 1.3/1.5 MB 734.6 kB/s eta 0:00:01\n",
      "   ---------------------------------------- 1.5/1.5 MB 746.7 kB/s eta 0:00:00\n",
      "Downloading regex-2025.9.18-cp313-cp313-win_amd64.whl (275 kB)\n",
      "Installing collected packages: regex, nltk\n",
      "Successfully installed nltk-3.9.1 regex-2025.9.18\n",
      "Note: you may need to restart the kernel to use updated packages.\n"
     ]
    }
   ],
   "source": [
    "pip install nltk"
   ]
  },
  {
   "cell_type": "code",
   "execution_count": 3,
   "metadata": {},
   "outputs": [],
   "source": [
    "from nltk.stem import PorterStemmer\n",
    "stemmer = PorterStemmer()"
   ]
  },
  {
   "cell_type": "code",
   "execution_count": 4,
   "metadata": {},
   "outputs": [
    {
     "name": "stdout",
     "output_type": "stream",
     "text": [
      "eating | eat\n",
      "eats | eat\n",
      "eat | eat\n",
      "ate | ate\n",
      "adjustable | adjust\n",
      "rafting | raft\n",
      "ability | abil\n",
      "meeting | meet\n"
     ]
    }
   ],
   "source": [
    "words = [\"eating\", \"eats\", \"eat\", \"ate\", \"adjustable\", \"rafting\", \"ability\", \"meeting\"]\n",
    "\n",
    "for word in words:\n",
    "    print(word, \"|\", stemmer.stem(word))"
   ]
  },
  {
   "cell_type": "markdown",
   "metadata": {},
   "source": [
    "<h3>Lemmatization in Spacy</h3>"
   ]
  },
  {
   "cell_type": "code",
   "execution_count": 5,
   "metadata": {},
   "outputs": [],
   "source": [
    "import spacy"
   ]
  },
  {
   "cell_type": "code",
   "execution_count": 7,
   "metadata": {},
   "outputs": [
    {
     "name": "stdout",
     "output_type": "stream",
     "text": [
      "Requirement already satisfied: spacy in c:\\users\\user\\anaconda3\\envs\\python\\lib\\site-packages (3.8.7)\n",
      "Requirement already satisfied: spacy-legacy<3.1.0,>=3.0.11 in c:\\users\\user\\anaconda3\\envs\\python\\lib\\site-packages (from spacy) (3.0.12)\n",
      "Requirement already satisfied: spacy-loggers<2.0.0,>=1.0.0 in c:\\users\\user\\anaconda3\\envs\\python\\lib\\site-packages (from spacy) (1.0.5)\n",
      "Requirement already satisfied: murmurhash<1.1.0,>=0.28.0 in c:\\users\\user\\anaconda3\\envs\\python\\lib\\site-packages (from spacy) (1.0.13)\n",
      "Requirement already satisfied: cymem<2.1.0,>=2.0.2 in c:\\users\\user\\anaconda3\\envs\\python\\lib\\site-packages (from spacy) (2.0.11)\n",
      "Requirement already satisfied: preshed<3.1.0,>=3.0.2 in c:\\users\\user\\anaconda3\\envs\\python\\lib\\site-packages (from spacy) (3.0.10)\n",
      "Requirement already satisfied: thinc<8.4.0,>=8.3.4 in c:\\users\\user\\anaconda3\\envs\\python\\lib\\site-packages (from spacy) (8.3.6)\n",
      "Requirement already satisfied: wasabi<1.2.0,>=0.9.1 in c:\\users\\user\\anaconda3\\envs\\python\\lib\\site-packages (from spacy) (1.1.3)\n",
      "Requirement already satisfied: srsly<3.0.0,>=2.4.3 in c:\\users\\user\\anaconda3\\envs\\python\\lib\\site-packages (from spacy) (2.5.1)\n",
      "Requirement already satisfied: catalogue<2.1.0,>=2.0.6 in c:\\users\\user\\anaconda3\\envs\\python\\lib\\site-packages (from spacy) (2.0.10)\n",
      "Requirement already satisfied: weasel<0.5.0,>=0.1.0 in c:\\users\\user\\anaconda3\\envs\\python\\lib\\site-packages (from spacy) (0.4.1)\n",
      "Requirement already satisfied: typer<1.0.0,>=0.3.0 in c:\\users\\user\\anaconda3\\envs\\python\\lib\\site-packages (from spacy) (0.17.4)\n",
      "Requirement already satisfied: tqdm<5.0.0,>=4.38.0 in c:\\users\\user\\anaconda3\\envs\\python\\lib\\site-packages (from spacy) (4.67.1)\n",
      "Requirement already satisfied: numpy>=1.19.0 in c:\\users\\user\\anaconda3\\envs\\python\\lib\\site-packages (from spacy) (2.2.3)\n",
      "Requirement already satisfied: requests<3.0.0,>=2.13.0 in c:\\users\\user\\anaconda3\\envs\\python\\lib\\site-packages (from spacy) (2.32.5)\n",
      "Requirement already satisfied: pydantic!=1.8,!=1.8.1,<3.0.0,>=1.7.4 in c:\\users\\user\\anaconda3\\envs\\python\\lib\\site-packages (from spacy) (2.11.7)\n",
      "Requirement already satisfied: jinja2 in c:\\users\\user\\anaconda3\\envs\\python\\lib\\site-packages (from spacy) (3.1.6)\n",
      "Requirement already satisfied: setuptools in c:\\users\\user\\anaconda3\\envs\\python\\lib\\site-packages (from spacy) (75.8.0)\n",
      "Requirement already satisfied: packaging>=20.0 in c:\\users\\user\\appdata\\roaming\\python\\python313\\site-packages (from spacy) (24.1)\n",
      "Requirement already satisfied: langcodes<4.0.0,>=3.2.0 in c:\\users\\user\\anaconda3\\envs\\python\\lib\\site-packages (from spacy) (3.5.0)\n",
      "Requirement already satisfied: language-data>=1.2 in c:\\users\\user\\anaconda3\\envs\\python\\lib\\site-packages (from langcodes<4.0.0,>=3.2.0->spacy) (1.3.0)\n",
      "Requirement already satisfied: annotated-types>=0.6.0 in c:\\users\\user\\anaconda3\\envs\\python\\lib\\site-packages (from pydantic!=1.8,!=1.8.1,<3.0.0,>=1.7.4->spacy) (0.7.0)\n",
      "Requirement already satisfied: pydantic-core==2.33.2 in c:\\users\\user\\anaconda3\\envs\\python\\lib\\site-packages (from pydantic!=1.8,!=1.8.1,<3.0.0,>=1.7.4->spacy) (2.33.2)\n",
      "Requirement already satisfied: typing-extensions>=4.12.2 in c:\\users\\user\\anaconda3\\envs\\python\\lib\\site-packages (from pydantic!=1.8,!=1.8.1,<3.0.0,>=1.7.4->spacy) (4.15.0)\n",
      "Requirement already satisfied: typing-inspection>=0.4.0 in c:\\users\\user\\anaconda3\\envs\\python\\lib\\site-packages (from pydantic!=1.8,!=1.8.1,<3.0.0,>=1.7.4->spacy) (0.4.1)\n",
      "Requirement already satisfied: charset_normalizer<4,>=2 in c:\\users\\user\\anaconda3\\envs\\python\\lib\\site-packages (from requests<3.0.0,>=2.13.0->spacy) (3.4.3)\n",
      "Requirement already satisfied: idna<4,>=2.5 in c:\\users\\user\\anaconda3\\envs\\python\\lib\\site-packages (from requests<3.0.0,>=2.13.0->spacy) (3.10)\n",
      "Requirement already satisfied: urllib3<3,>=1.21.1 in c:\\users\\user\\anaconda3\\envs\\python\\lib\\site-packages (from requests<3.0.0,>=2.13.0->spacy) (2.5.0)\n",
      "Requirement already satisfied: certifi>=2017.4.17 in c:\\users\\user\\anaconda3\\envs\\python\\lib\\site-packages (from requests<3.0.0,>=2.13.0->spacy) (2025.8.3)\n",
      "Requirement already satisfied: blis<1.4.0,>=1.3.0 in c:\\users\\user\\anaconda3\\envs\\python\\lib\\site-packages (from thinc<8.4.0,>=8.3.4->spacy) (1.3.0)\n",
      "Requirement already satisfied: confection<1.0.0,>=0.0.1 in c:\\users\\user\\anaconda3\\envs\\python\\lib\\site-packages (from thinc<8.4.0,>=8.3.4->spacy) (0.1.5)\n",
      "Requirement already satisfied: colorama in c:\\users\\user\\appdata\\roaming\\python\\python313\\site-packages (from tqdm<5.0.0,>=4.38.0->spacy) (0.4.6)\n",
      "Requirement already satisfied: click>=8.0.0 in c:\\users\\user\\anaconda3\\envs\\python\\lib\\site-packages (from typer<1.0.0,>=0.3.0->spacy) (8.2.1)\n",
      "Requirement already satisfied: shellingham>=1.3.0 in c:\\users\\user\\anaconda3\\envs\\python\\lib\\site-packages (from typer<1.0.0,>=0.3.0->spacy) (1.5.4)\n",
      "Requirement already satisfied: rich>=10.11.0 in c:\\users\\user\\anaconda3\\envs\\python\\lib\\site-packages (from typer<1.0.0,>=0.3.0->spacy) (14.1.0)\n",
      "Requirement already satisfied: cloudpathlib<1.0.0,>=0.7.0 in c:\\users\\user\\anaconda3\\envs\\python\\lib\\site-packages (from weasel<0.5.0,>=0.1.0->spacy) (0.22.0)\n",
      "Requirement already satisfied: smart-open<8.0.0,>=5.2.1 in c:\\users\\user\\anaconda3\\envs\\python\\lib\\site-packages (from weasel<0.5.0,>=0.1.0->spacy) (7.3.1)\n",
      "Requirement already satisfied: MarkupSafe>=2.0 in c:\\users\\user\\anaconda3\\envs\\python\\lib\\site-packages (from jinja2->spacy) (3.0.2)\n",
      "Requirement already satisfied: marisa-trie>=1.1.0 in c:\\users\\user\\anaconda3\\envs\\python\\lib\\site-packages (from language-data>=1.2->langcodes<4.0.0,>=3.2.0->spacy) (1.3.1)\n",
      "Requirement already satisfied: markdown-it-py>=2.2.0 in c:\\users\\user\\anaconda3\\envs\\python\\lib\\site-packages (from rich>=10.11.0->typer<1.0.0,>=0.3.0->spacy) (4.0.0)\n",
      "Requirement already satisfied: pygments<3.0.0,>=2.13.0 in c:\\users\\user\\appdata\\roaming\\python\\python313\\site-packages (from rich>=10.11.0->typer<1.0.0,>=0.3.0->spacy) (2.18.0)\n",
      "Requirement already satisfied: wrapt in c:\\users\\user\\anaconda3\\envs\\python\\lib\\site-packages (from smart-open<8.0.0,>=5.2.1->weasel<0.5.0,>=0.1.0->spacy) (1.17.3)\n",
      "Requirement already satisfied: mdurl~=0.1 in c:\\users\\user\\anaconda3\\envs\\python\\lib\\site-packages (from markdown-it-py>=2.2.0->rich>=10.11.0->typer<1.0.0,>=0.3.0->spacy) (0.1.2)\n",
      "Note: you may need to restart the kernel to use updated packages.\n",
      "Collecting en-core-web-sm==3.8.0\n",
      "  Downloading https://github.com/explosion/spacy-models/releases/download/en_core_web_sm-3.8.0/en_core_web_sm-3.8.0-py3-none-any.whl (12.8 MB)\n",
      "     ---------------------------------------- 0.0/12.8 MB ? eta -:--:--\n",
      "     ---------------------------------------- 0.0/12.8 MB ? eta -:--:--\n",
      "      --------------------------------------- 0.3/12.8 MB ? eta -:--:--\n",
      "     -- ------------------------------------- 0.8/12.8 MB 2.1 MB/s eta 0:00:06\n",
      "     --- ------------------------------------ 1.0/12.8 MB 1.8 MB/s eta 0:00:07\n",
      "     ---- ----------------------------------- 1.3/12.8 MB 1.7 MB/s eta 0:00:07\n",
      "     ---- ----------------------------------- 1.6/12.8 MB 1.5 MB/s eta 0:00:08\n",
      "     ---- ----------------------------------- 1.6/12.8 MB 1.5 MB/s eta 0:00:08\n",
      "     ----- ---------------------------------- 1.8/12.8 MB 1.4 MB/s eta 0:00:08\n",
      "     ------ --------------------------------- 2.1/12.8 MB 1.3 MB/s eta 0:00:09\n",
      "     ------ --------------------------------- 2.1/12.8 MB 1.3 MB/s eta 0:00:09\n",
      "     -------- ------------------------------- 2.6/12.8 MB 1.2 MB/s eta 0:00:09\n",
      "     -------- ------------------------------- 2.6/12.8 MB 1.2 MB/s eta 0:00:09\n",
      "     --------- ------------------------------ 2.9/12.8 MB 1.1 MB/s eta 0:00:09\n",
      "     --------- ------------------------------ 2.9/12.8 MB 1.1 MB/s eta 0:00:09\n",
      "     --------- ------------------------------ 3.1/12.8 MB 1.1 MB/s eta 0:00:09\n",
      "     ---------- ----------------------------- 3.4/12.8 MB 1.1 MB/s eta 0:00:09\n",
      "     ---------- ----------------------------- 3.4/12.8 MB 1.1 MB/s eta 0:00:09\n",
      "     ----------- ---------------------------- 3.7/12.8 MB 1.0 MB/s eta 0:00:09\n",
      "     ------------ --------------------------- 3.9/12.8 MB 1.0 MB/s eta 0:00:09\n",
      "     ------------- -------------------------- 4.2/12.8 MB 1.0 MB/s eta 0:00:09\n",
      "     ------------- -------------------------- 4.2/12.8 MB 1.0 MB/s eta 0:00:09\n",
      "     ------------- ------------------------- 4.5/12.8 MB 980.8 kB/s eta 0:00:09\n",
      "     ------------- ------------------------- 4.5/12.8 MB 980.8 kB/s eta 0:00:09\n",
      "     -------------- ------------------------ 4.7/12.8 MB 961.2 kB/s eta 0:00:09\n",
      "     --------------- ----------------------- 5.0/12.8 MB 951.0 kB/s eta 0:00:09\n",
      "     --------------- ----------------------- 5.0/12.8 MB 951.0 kB/s eta 0:00:09\n",
      "     --------------- ----------------------- 5.2/12.8 MB 938.4 kB/s eta 0:00:09\n",
      "     --------------- ----------------------- 5.2/12.8 MB 938.4 kB/s eta 0:00:09\n",
      "     ---------------- ---------------------- 5.5/12.8 MB 926.1 kB/s eta 0:00:08\n",
      "     ----------------- --------------------- 5.8/12.8 MB 909.6 kB/s eta 0:00:08\n",
      "     ----------------- --------------------- 5.8/12.8 MB 909.6 kB/s eta 0:00:08\n",
      "     ------------------ -------------------- 6.0/12.8 MB 909.4 kB/s eta 0:00:08\n",
      "     ------------------ -------------------- 6.0/12.8 MB 909.4 kB/s eta 0:00:08\n",
      "     ------------------- ------------------- 6.3/12.8 MB 896.0 kB/s eta 0:00:08\n",
      "     ------------------- ------------------- 6.6/12.8 MB 885.3 kB/s eta 0:00:08\n",
      "     ------------------- ------------------- 6.6/12.8 MB 885.3 kB/s eta 0:00:08\n",
      "     -------------------- ------------------ 6.8/12.8 MB 878.3 kB/s eta 0:00:07\n",
      "     -------------------- ------------------ 6.8/12.8 MB 878.3 kB/s eta 0:00:07\n",
      "     --------------------- ----------------- 7.1/12.8 MB 872.5 kB/s eta 0:00:07\n",
      "     ---------------------- ---------------- 7.3/12.8 MB 867.9 kB/s eta 0:00:07\n",
      "     ---------------------- ---------------- 7.3/12.8 MB 867.9 kB/s eta 0:00:07\n",
      "     ----------------------- --------------- 7.6/12.8 MB 861.8 kB/s eta 0:00:07\n",
      "     ----------------------- --------------- 7.6/12.8 MB 861.8 kB/s eta 0:00:07\n",
      "     ----------------------- --------------- 7.9/12.8 MB 839.3 kB/s eta 0:00:06\n",
      "     ----------------------- --------------- 7.9/12.8 MB 839.3 kB/s eta 0:00:06\n",
      "     ----------------------- --------------- 7.9/12.8 MB 839.3 kB/s eta 0:00:06\n",
      "     ------------------------ -------------- 8.1/12.8 MB 820.3 kB/s eta 0:00:06\n",
      "     ------------------------ -------------- 8.1/12.8 MB 820.3 kB/s eta 0:00:06\n",
      "     ------------------------- ------------- 8.4/12.8 MB 813.7 kB/s eta 0:00:06\n",
      "     ------------------------- ------------- 8.4/12.8 MB 813.7 kB/s eta 0:00:06\n",
      "     -------------------------- ------------ 8.7/12.8 MB 804.4 kB/s eta 0:00:06\n",
      "     -------------------------- ------------ 8.7/12.8 MB 804.4 kB/s eta 0:00:06\n",
      "     --------------------------- ----------- 8.9/12.8 MB 793.4 kB/s eta 0:00:05\n",
      "     --------------------------- ----------- 8.9/12.8 MB 793.4 kB/s eta 0:00:05\n",
      "     --------------------------- ----------- 9.2/12.8 MB 778.7 kB/s eta 0:00:05\n",
      "     --------------------------- ----------- 9.2/12.8 MB 778.7 kB/s eta 0:00:05\n",
      "     --------------------------- ----------- 9.2/12.8 MB 778.7 kB/s eta 0:00:05\n",
      "     ---------------------------- ---------- 9.4/12.8 MB 759.0 kB/s eta 0:00:05\n",
      "     ---------------------------- ---------- 9.4/12.8 MB 759.0 kB/s eta 0:00:05\n",
      "     ---------------------------- ---------- 9.4/12.8 MB 759.0 kB/s eta 0:00:05\n",
      "     ----------------------------- --------- 9.7/12.8 MB 741.7 kB/s eta 0:00:05\n",
      "     ----------------------------- --------- 9.7/12.8 MB 741.7 kB/s eta 0:00:05\n",
      "     ----------------------------- --------- 9.7/12.8 MB 741.7 kB/s eta 0:00:05\n",
      "     ----------------------------- --------- 9.7/12.8 MB 741.7 kB/s eta 0:00:05\n",
      "     ----------------------------- --------- 9.7/12.8 MB 741.7 kB/s eta 0:00:05\n",
      "     ----------------------------- -------- 10.0/12.8 MB 712.9 kB/s eta 0:00:04\n",
      "     ----------------------------- -------- 10.0/12.8 MB 712.9 kB/s eta 0:00:04\n",
      "     ------------------------------ ------- 10.2/12.8 MB 701.0 kB/s eta 0:00:04\n",
      "     ------------------------------ ------- 10.2/12.8 MB 701.0 kB/s eta 0:00:04\n",
      "     ------------------------------ ------- 10.2/12.8 MB 701.0 kB/s eta 0:00:04\n",
      "     ------------------------------- ------ 10.5/12.8 MB 689.4 kB/s eta 0:00:04\n",
      "     ------------------------------- ------ 10.5/12.8 MB 689.4 kB/s eta 0:00:04\n",
      "     ------------------------------- ------ 10.5/12.8 MB 689.4 kB/s eta 0:00:04\n",
      "     ------------------------------- ------ 10.7/12.8 MB 675.6 kB/s eta 0:00:04\n",
      "     ------------------------------- ------ 10.7/12.8 MB 675.6 kB/s eta 0:00:04\n",
      "     ------------------------------- ------ 10.7/12.8 MB 675.6 kB/s eta 0:00:04\n",
      "     -------------------------------- ----- 11.0/12.8 MB 666.0 kB/s eta 0:00:03\n",
      "     -------------------------------- ----- 11.0/12.8 MB 666.0 kB/s eta 0:00:03\n",
      "     -------------------------------- ----- 11.0/12.8 MB 666.0 kB/s eta 0:00:03\n",
      "     --------------------------------- ---- 11.3/12.8 MB 656.0 kB/s eta 0:00:03\n",
      "     --------------------------------- ---- 11.3/12.8 MB 656.0 kB/s eta 0:00:03\n",
      "     --------------------------------- ---- 11.3/12.8 MB 656.0 kB/s eta 0:00:03\n",
      "     ---------------------------------- --- 11.5/12.8 MB 649.9 kB/s eta 0:00:02\n",
      "     ---------------------------------- --- 11.5/12.8 MB 649.9 kB/s eta 0:00:02\n",
      "     ---------------------------------- --- 11.5/12.8 MB 649.9 kB/s eta 0:00:02\n",
      "     ----------------------------------- -- 11.8/12.8 MB 642.9 kB/s eta 0:00:02\n",
      "     ----------------------------------- -- 11.8/12.8 MB 642.9 kB/s eta 0:00:02\n",
      "     ----------------------------------- -- 11.8/12.8 MB 642.9 kB/s eta 0:00:02\n",
      "     ----------------------------------- -- 12.1/12.8 MB 631.3 kB/s eta 0:00:02\n",
      "     ----------------------------------- -- 12.1/12.8 MB 631.3 kB/s eta 0:00:02\n",
      "     ----------------------------------- -- 12.1/12.8 MB 631.3 kB/s eta 0:00:02\n",
      "     ----------------------------------- -- 12.1/12.8 MB 631.3 kB/s eta 0:00:02\n",
      "     ------------------------------------ - 12.3/12.8 MB 621.5 kB/s eta 0:00:01\n",
      "     ------------------------------------ - 12.3/12.8 MB 621.5 kB/s eta 0:00:01\n",
      "     -------------------------------------  12.6/12.8 MB 615.4 kB/s eta 0:00:01\n",
      "     -------------------------------------  12.6/12.8 MB 615.4 kB/s eta 0:00:01\n",
      "     -------------------------------------  12.6/12.8 MB 615.4 kB/s eta 0:00:01\n",
      "     -------------------------------------- 12.8/12.8 MB 608.3 kB/s eta 0:00:00\n",
      "Installing collected packages: en-core-web-sm\n",
      "Successfully installed en-core-web-sm-3.8.0\n",
      "\u001b[38;5;2m✔ Download and installation successful\u001b[0m\n",
      "You can now load the package via spacy.load('en_core_web_sm')\n",
      "eating  |  eat\n",
      "eats  |  eat\n",
      "eat  |  eat\n",
      "ate  |  eat\n",
      "adjustable  |  adjustable\n",
      "rafting  |  raft\n",
      "ability  |  ability\n",
      "meeting  |  meet\n",
      "better  |  well\n"
     ]
    }
   ],
   "source": [
    "# Install the spaCy English model if not already installed\n",
    "%pip install spacy\n",
    "!python -m spacy download en_core_web_sm\n",
    "\n",
    "nlp = spacy.load(\"en_core_web_sm\")\n",
    "\n",
    "doc = nlp(\"Mando talked for 3 hours although talking isn't his thing\")\n",
    "doc = nlp(\"eating eats eat ate adjustable rafting ability meeting better\")\n",
    "for token in doc:\n",
    "    print(token, \" | \", token.lemma_)"
   ]
  },
  {
   "cell_type": "markdown",
   "metadata": {},
   "source": [
    "<h3>Customizing lemmatizer</h3>"
   ]
  },
  {
   "cell_type": "code",
   "execution_count": 8,
   "metadata": {},
   "outputs": [
    {
     "data": {
      "text/plain": [
       "['tok2vec', 'tagger', 'parser', 'attribute_ruler', 'lemmatizer', 'ner']"
      ]
     },
     "execution_count": 8,
     "metadata": {},
     "output_type": "execute_result"
    }
   ],
   "source": [
    "nlp.pipe_names"
   ]
  },
  {
   "cell_type": "code",
   "execution_count": 9,
   "metadata": {
    "scrolled": true
   },
   "outputs": [
    {
     "name": "stdout",
     "output_type": "stream",
     "text": [
      "Bro | Brother\n",
      ", | ,\n",
      "you | you\n",
      "wanna | wanna\n",
      "go | go\n",
      "? | ?\n",
      "Brah | Brother\n",
      ", | ,\n",
      "do | do\n",
      "n't | not\n",
      "say | say\n",
      "no | no\n",
      "! | !\n",
      "I | I\n",
      "am | be\n",
      "exhausted | exhaust\n"
     ]
    }
   ],
   "source": [
    "ar = nlp.get_pipe('attribute_ruler')\n",
    "\n",
    "ar.add([[{\"TEXT\":\"Bro\"}],[{\"TEXT\":\"Brah\"}]],{\"LEMMA\":\"Brother\"})\n",
    "\n",
    "doc = nlp(\"Bro, you wanna go? Brah, don't say no! I am exhausted\")\n",
    "for token in doc:\n",
    "    print(token.text, \"|\", token.lemma_)"
   ]
  },
  {
   "cell_type": "code",
   "execution_count": 10,
   "metadata": {},
   "outputs": [
    {
     "data": {
      "text/plain": [
       "Brah"
      ]
     },
     "execution_count": 10,
     "metadata": {},
     "output_type": "execute_result"
    }
   ],
   "source": [
    "doc[6]"
   ]
  },
  {
   "cell_type": "code",
   "execution_count": 11,
   "metadata": {},
   "outputs": [
    {
     "data": {
      "text/plain": [
       "'Brother'"
      ]
     },
     "execution_count": 11,
     "metadata": {},
     "output_type": "execute_result"
    }
   ],
   "source": [
    "doc[6].lemma_"
   ]
  },
  {
   "cell_type": "code",
   "execution_count": null,
   "metadata": {},
   "outputs": [],
   "source": []
  }
 ],
 "metadata": {
  "kernelspec": {
   "display_name": "python",
   "language": "python",
   "name": "python3"
  },
  "language_info": {
   "codemirror_mode": {
    "name": "ipython",
    "version": 3
   },
   "file_extension": ".py",
   "mimetype": "text/x-python",
   "name": "python",
   "nbconvert_exporter": "python",
   "pygments_lexer": "ipython3",
   "version": "3.13.2"
  }
 },
 "nbformat": 4,
 "nbformat_minor": 4
}
