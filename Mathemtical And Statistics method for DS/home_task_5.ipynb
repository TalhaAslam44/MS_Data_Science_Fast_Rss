{
 "cells": [
  {
   "cell_type": "markdown",
   "metadata": {},
   "source": [
    "# Home Task 4"
   ]
  },
  {
   "cell_type": "markdown",
   "metadata": {},
   "source": [
    "## Importing important Libraries"
   ]
  },
  {
   "cell_type": "code",
   "execution_count": null,
   "metadata": {
    "vscode": {
     "languageId": "plaintext"
    }
   },
   "outputs": [],
   "source": [
    "import numpy as np\n",
    "import matplotlib.pyplot as plt\n",
    "from sklearn.decomposition import PCA\n",
    "from PIL import Image\n",
    "\n",
    "# Load the image\n",
    "img = Image.open('your_image.jpg')  # Replace with your image path\n",
    "img = np.array(img)  # Convert to a NumPy array (height x width x 3)\n"
   ]
  },
  {
   "cell_type": "markdown",
   "metadata": {},
   "source": [
    "- Explanation: The image is read into a NumPy array for easy manipulation. Ensure it has shape (height, width, 3) if it’s an RGB image."
   ]
  },
  {
   "cell_type": "markdown",
   "metadata": {},
   "source": [
    "## Extracting Red,Green and BLue channels"
   ]
  },
  {
   "cell_type": "code",
   "execution_count": null,
   "metadata": {
    "vscode": {
     "languageId": "plaintext"
    }
   },
   "outputs": [],
   "source": [
    "R = img[:, :, 0]  # Red channel\n",
    "G = img[:, :, 1]  # Green channel\n",
    "B = img[:, :, 2]  # Blue channel\n"
   ]
  },
  {
   "cell_type": "markdown",
   "metadata": {},
   "source": [
    "- Explanation: Each channel is a 2D matrix of intensity values. Access them by slicing the last dimension of the image array."
   ]
  },
  {
   "cell_type": "markdown",
   "metadata": {},
   "source": [
    "## Display the Individual Channels"
   ]
  },
  {
   "cell_type": "code",
   "execution_count": null,
   "metadata": {
    "vscode": {
     "languageId": "plaintext"
    }
   },
   "outputs": [],
   "source": [
    "plt.imshow(R, cmap='gray')\n",
    "plt.title('Red Channel in Grayscale')\n",
    "plt.show()\n",
    "\n",
    "plt.imshow(G, cmap='gray')\n",
    "plt.title('Green Channel in Grayscale')\n",
    "plt.show()\n",
    "\n",
    "plt.imshow(B, cmap='gray')\n",
    "plt.title('Blue Channel in Grayscale')\n",
    "plt.show()\n"
   ]
  },
  {
   "cell_type": "markdown",
   "metadata": {},
   "source": [
    "- Explanation: Using **cmap='gray'** shows the intensity distribution for each channel. You’ll see how bright or dark each pixel is in that color channel."
   ]
  },
  {
   "cell_type": "markdown",
   "metadata": {},
   "source": [
    "## Apply PCA to Each Channel"
   ]
  },
  {
   "cell_type": "code",
   "execution_count": null,
   "metadata": {
    "vscode": {
     "languageId": "plaintext"
    }
   },
   "outputs": [],
   "source": [
    "n_components = 30  # Set the number of principal components\n",
    "\n",
    "def apply_pca(channel):\n",
    "    # Flatten the 2D channel into shape (height, width)\n",
    "    h, w = channel.shape\n",
    "    channel_2d = channel.reshape(h, w)\n",
    "\n",
    "    # Perform PCA\n",
    "    pca = PCA(n_components=n_components)\n",
    "    transformed = pca.fit_transform(channel_2d)\n",
    "\n",
    "    # Reconstruct the channel using the inverse transform\n",
    "    reconstructed = pca.inverse_transform(transformed)\n",
    "\n",
    "    # Reshape back to original dimensions\n",
    "    reconstructed = reconstructed.reshape(h, w)\n",
    "    return reconstructed\n",
    "\n",
    "R_compressed = apply_pca(R)\n",
    "G_compressed = apply_pca(G)\n",
    "B_compressed = apply_pca(B)\n"
   ]
  },
  {
   "cell_type": "markdown",
   "metadata": {},
   "source": [
    "- Flattening makes the channel a 2D array with height rows and width columns.\n",
    "- PCA(n_components=n_components) limits the data to the top principal components.\n",
    "- transform step converts the channel to the principal components.\n",
    "- inverse_transform step reconstructs the channel from those principal components, effectively reducing noise and data size at the cost of some detail loss.\n"
   ]
  },
  {
   "cell_type": "markdown",
   "metadata": {},
   "source": [
    "## Combine Reconstructed Channels"
   ]
  },
  {
   "cell_type": "code",
   "execution_count": null,
   "metadata": {
    "vscode": {
     "languageId": "plaintext"
    }
   },
   "outputs": [],
   "source": [
    "compressed_img = np.dstack((R_compressed, G_compressed, B_compressed)).astype(np.uint8)\n"
   ]
  },
  {
   "cell_type": "markdown",
   "metadata": {},
   "source": [
    "- np.dstack stacks the three 2D arrays along a new depth dimension to form a 3D array with shape (height, width, 3).\n",
    "- astype(np.uint8) converts the floating-point values to 8-bit integers suitable for standard image representation."
   ]
  },
  {
   "cell_type": "markdown",
   "metadata": {},
   "source": [
    "## Display Original and Compressed Images"
   ]
  },
  {
   "cell_type": "code",
   "execution_count": null,
   "metadata": {
    "vscode": {
     "languageId": "plaintext"
    }
   },
   "outputs": [],
   "source": [
    "plt.imshow(img)\n",
    "plt.title('Original Image')\n",
    "plt.show()\n",
    "\n",
    "plt.imshow(compressed_img)\n",
    "plt.title('PCA Compressed Image')\n",
    "plt.show()\n"
   ]
  },
  {
   "cell_type": "markdown",
   "metadata": {},
   "source": [
    "- Explanation:\n",
    "- This allows visual comparison to see the effect of PCA compression.\n",
    "- With 30 components per channel, you usually retain most major color and intensity details but might see subtle differences in fine gradients or smooth color transitions."
   ]
  },
  {
   "cell_type": "markdown",
   "metadata": {},
   "source": []
  }
 ],
 "metadata": {
  "language_info": {
   "name": "python"
  }
 },
 "nbformat": 4,
 "nbformat_minor": 2
}
