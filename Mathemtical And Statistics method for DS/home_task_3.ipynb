{
 "cells": [
  {
   "cell_type": "code",
   "execution_count": null,
   "metadata": {},
   "outputs": [],
   "source": [
    "import numpy as np\n",
    "import matplotlib.pyplot as plt\n",
    "from sklearn.preprocessing import StandardScaler\n",
    "from sklearn.decomposition import PCA\n",
    "\n",
    "# Given dataset\n",
    "data = np.array([\n",
    "    [2.5, 100, 4.5, 15],\n",
    "    [3.0, 150, 4.0, 20],\n",
    "    [1.8, 120, 3.8, 14],\n",
    "    [2.7, 130, 4.2, 18],\n",
    "    [2.2, 110, 4.1, 16]\n",
    "])\n",
    "\n",
    "# Apply StandardScaler\n",
    "scaler = StandardScaler()\n",
    "data_scaled = scaler.fit_transform(data)\n",
    "\n",
    "# Perform PCA\n",
    "pca = PCA(n_components=2)\n",
    "data_pca = pca.fit_transform(data_scaled)\n",
    "\n",
    "# Get explained variance\n",
    "explained_variance = pca.explained_variance_ratio_\n",
    "\n",
    "# Print explained variance\n",
    "print(f\"Explained variance by the top 2 components: {explained_variance.sum() * 100:.2f}%\")\n",
    "\n",
    "# Scatter plot\n",
    "plt.figure(figsize=(8,6))\n",
    "plt.scatter(data_pca[:, 0], data_pca[:, 1], color='blue', edgecolors='black')\n",
    "for i in range(len(data_pca)):\n",
    "    plt.text(data_pca[i, 0] + 0.05, data_pca[i, 1] + 0.05, f'P{i+1}', fontsize=12)\n",
    "plt.xlabel('Principal Component 1')\n",
    "plt.ylabel('Principal Component 2')\n",
    "plt.title('2D Scatter Plot of PCA-Transformed Data')\n",
    "plt.grid()\n",
    "plt.show()\n"
   ]
  },
  {
   "cell_type": "code",
   "execution_count": null,
   "metadata": {},
   "outputs": [],
   "source": []
  }
 ],
 "metadata": {
  "language_info": {
   "name": "python"
  }
 },
 "nbformat": 4,
 "nbformat_minor": 2
}
