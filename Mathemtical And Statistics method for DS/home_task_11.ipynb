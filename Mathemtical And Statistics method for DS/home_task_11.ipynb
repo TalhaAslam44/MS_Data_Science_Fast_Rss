{
 "cells": [
  {
   "cell_type": "markdown",
   "metadata": {},
   "source": [
    "# Home task 11"
   ]
  },
  {
   "cell_type": "code",
   "execution_count": 2,
   "metadata": {},
   "outputs": [
    {
     "name": "stdout",
     "output_type": "stream",
     "text": [
      "Iteration 1: b = 0.0099, w = [0.948795 0.065115 0.034939], MSE = 1729.3722\n",
      "Iteration 2: b = 0.0017, w = [0.15533221 0.01041881 0.00576286], MSE = 1210.9002\n",
      "Iteration 3: b = 0.0087, w = [0.818919   0.05592068 0.03020619], MSE = 848.2150\n",
      "Predicted Muscle Mass Percentage: 86.5233\n"
     ]
    }
   ],
   "source": [
    "import numpy as np\n",
    "\n",
    "# Given dataset\n",
    "X = np.array([\n",
    "    [80, 5, 3],\n",
    "    [100, 7, 3.5],\n",
    "    [90, 6, 3.2],\n",
    "    [110, 8, 4],\n",
    "    [95, 6.5, 3.8]\n",
    "])\n",
    "y = np.array([45, 50, 48, 55, 50])\n",
    "\n",
    "# Lasso regression parameters\n",
    "alpha = 0.05  # Regularization strength\n",
    "eta = 0.0001  # Learning rate\n",
    "n_iterations = 3  # Number of iterations\n",
    "m = len(y)  # Number of samples\n",
    "\n",
    "# Initialize weights and bias\n",
    "b = 0\n",
    "w = np.zeros(X.shape[1])\n",
    "\n",
    "# Function to compute Mean Squared Error (MSE)\n",
    "def compute_mse(X, y, w, b):\n",
    "    predictions = X.dot(w) + b\n",
    "    return np.mean((y - predictions) ** 2)\n",
    "\n",
    "# Lasso regression iterations\n",
    "for iteration in range(n_iterations):\n",
    "    predictions = X.dot(w) + b\n",
    "    errors = predictions - y\n",
    "    \n",
    "    # Compute gradients\n",
    "    db = (2 / m) * np.sum(errors)\n",
    "    dw = (2 / m) * X.T.dot(errors)\n",
    "    \n",
    "    # Apply Lasso penalty (soft thresholding)\n",
    "    w -= eta * dw\n",
    "    w = np.sign(w) * np.maximum(0, np.abs(w) - eta * alpha)  # Soft thresholding for Lasso\n",
    "    b -= eta * db\n",
    "    \n",
    "    # Compute and display MSE\n",
    "    mse = compute_mse(X, y, w, b)\n",
    "    print(f\"Iteration {iteration+1}: b = {b:.4f}, w = {w}, MSE = {mse:.4f}\")\n",
    "\n",
    "# Final prediction\n",
    "test_data = np.array([105, 7.5, 3.6])\n",
    "predicted_muscle_mass = test_data.dot(w) + b\n",
    "print(f\"Predicted Muscle Mass Percentage: {predicted_muscle_mass:.4f}\")"
   ]
  },
  {
   "cell_type": "code",
   "execution_count": null,
   "metadata": {},
   "outputs": [],
   "source": []
  }
 ],
 "metadata": {
  "kernelspec": {
   "display_name": "python",
   "language": "python",
   "name": "python3"
  },
  "language_info": {
   "codemirror_mode": {
    "name": "ipython",
    "version": 3
   },
   "file_extension": ".py",
   "mimetype": "text/x-python",
   "name": "python",
   "nbconvert_exporter": "python",
   "pygments_lexer": "ipython3",
   "version": "3.13.2"
  }
 },
 "nbformat": 4,
 "nbformat_minor": 2
}
