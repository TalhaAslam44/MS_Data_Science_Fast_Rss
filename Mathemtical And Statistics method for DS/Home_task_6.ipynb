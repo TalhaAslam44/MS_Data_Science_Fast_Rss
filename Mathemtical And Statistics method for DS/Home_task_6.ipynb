{
 "cells": [
  {
   "cell_type": "markdown",
   "metadata": {},
   "source": [
    "# Importing Liberaries"
   ]
  },
  {
   "cell_type": "code",
   "execution_count": null,
   "metadata": {
    "vscode": {
     "languageId": "plaintext"
    }
   },
   "outputs": [],
   "source": [
    "import numpy as np\n",
    "import pandas as pd\n",
    "import matplotlib.pyplot as plt\n",
    "\n"
   ]
  },
  {
   "cell_type": "markdown",
   "metadata": {},
   "source": [
    " ## Create a DataFrame from the dataset"
   ]
  },
  {
   "cell_type": "code",
   "execution_count": null,
   "metadata": {
    "vscode": {
     "languageId": "plaintext"
    }
   },
   "outputs": [],
   "source": [
    "# Class 0 data (Feature 1, Feature 2)\n",
    "class_0 = np.array([[2.5, 3.0], [3.1, 2.9], [2.8, 3.2], [3.0, 3.1], [2.9, 3.3]])\n",
    "\n",
    "# Class 1 data (Feature 1, Feature 2)\n",
    "class_1 = np.array([[4.1, 3.5], [4.3, 3.6], [4.2, 3.7], [4.0, 3.4], [3.9, 3.8]])\n",
    "\n",
    "# Create DataFrame\n",
    "data = pd.DataFrame(np.vstack([class_0, class_1]), columns=[\"Feature 1\", \"Feature 2\"])\n",
    "data['Class'] = [0] * 5 + [1] * 5  # Adding class labels (0 for class 0, 1 for class 1)\n",
    "\n",
    "print(data)\n"
   ]
  },
  {
   "cell_type": "markdown",
   "metadata": {},
   "source": [
    "We used numpy to create arrays for each class's data points.\n",
    "\n",
    "The pd.DataFrame method is used to convert the numpy arrays into a DataFrame for easier manipulation.\n",
    "\n",
    "The Class column is added to label the data points of each class."
   ]
  },
  {
   "cell_type": "markdown",
   "metadata": {},
   "source": [
    "## Compute the Mean Vectors for Both Classes"
   ]
  },
  {
   "cell_type": "code",
   "execution_count": null,
   "metadata": {
    "vscode": {
     "languageId": "plaintext"
    }
   },
   "outputs": [],
   "source": [
    "# Compute the mean vectors for both classes\n",
    "mean_class_0 = np.mean(class_0, axis=0)  # Mean of Class 0\n",
    "mean_class_1 = np.mean(class_1, axis=0)  # Mean of Class 1\n",
    "\n",
    "print(\"Mean of Class 0:\", mean_class_0)\n",
    "print(\"Mean of Class 1:\", mean_class_1)\n"
   ]
  },
  {
   "cell_type": "markdown",
   "metadata": {},
   "source": [
    "np.mean calculates the mean across the specified axis (axis=0 means along columns, i.e., the features).\n",
    "\n",
    "The mean vectors are the centroids of each class in the feature space."
   ]
  },
  {
   "cell_type": "markdown",
   "metadata": {},
   "source": [
    "## Calculate the Within-Class Scatter Matrix (SW) and the Between-Class Scatter Matrix (SB)"
   ]
  },
  {
   "cell_type": "code",
   "execution_count": null,
   "metadata": {
    "vscode": {
     "languageId": "plaintext"
    }
   },
   "outputs": [],
   "source": [
    "# Calculate the overall mean (mu)\n",
    "overall_mean = np.mean(np.vstack([class_0, class_1]), axis=0)\n",
    "\n",
    "# Calculate within-class scatter matrix SW\n",
    "SW = np.zeros((2, 2))\n",
    "for x in class_0:\n",
    "    SW += np.outer(x - mean_class_0, x - mean_class_0)\n",
    "for x in class_1:\n",
    "    SW += np.outer(x - mean_class_1, x - mean_class_1)\n",
    "\n",
    "# Calculate between-class scatter matrix SB\n",
    "N_0 = class_0.shape[0]\n",
    "N_1 = class_1.shape[0]\n",
    "\n",
    "SB = N_0 * np.outer(mean_class_0 - overall_mean, mean_class_0 - overall_mean) + \\\n",
    "     N_1 * np.outer(mean_class_1 - overall_mean, mean_class_1 - overall_mean)\n",
    "\n",
    "print(\"Within-class scatter matrix SW:\\n\", SW)\n",
    "print(\"Between-class scatter matrix SB:\\n\", SB)\n"
   ]
  },
  {
   "cell_type": "markdown",
   "metadata": {},
   "source": [
    "The within-class scatter matrix (SW) is computed by summing the outer products of the deviations of each data point from the class mean.\n",
    "\n",
    "The between-class scatter matrix (SB) is computed by multiplying the number of data points in each class by the outer product of the deviation of the class mean from the overall mean."
   ]
  },
  {
   "cell_type": "markdown",
   "metadata": {},
   "source": [
    "## Find and Sort the Eigenvalues and Eigenvectors"
   ]
  },
  {
   "cell_type": "code",
   "execution_count": null,
   "metadata": {
    "vscode": {
     "languageId": "plaintext"
    }
   },
   "outputs": [],
   "source": [
    "# Calculate the inverse of SW\n",
    "SW_inv = np.linalg.inv(SW)\n",
    "\n",
    "# Compute the eigenvalues and eigenvectors of SW_inv * SB\n",
    "eigenvalues, eigenvectors = np.linalg.eig(SW_inv @ SB)\n",
    "\n",
    "# Sort the eigenvalues and eigenvectors in descending order\n",
    "sorted_indices = np.argsort(eigenvalues)[::-1]\n",
    "eigenvalues_sorted = eigenvalues[sorted_indices]\n",
    "eigenvectors_sorted = eigenvectors[:, sorted_indices]\n",
    "\n",
    "print(\"Eigenvalues:\\n\", eigenvalues_sorted)\n",
    "print(\"Eigenvectors:\\n\", eigenvectors_sorted)\n"
   ]
  },
  {
   "cell_type": "markdown",
   "metadata": {},
   "source": [
    "The matrix is used to compute the eigenvalues and eigenvectors.\n",
    "\n",
    "We use np.linalg.eig to compute the eigenvalues and eigenvectors of the matrix.\n",
    "\n",
    "np.argsort is used to sort the eigenvalues in descending order and to rearrange the eigenvectors accordingly."
   ]
  },
  {
   "cell_type": "markdown",
   "metadata": {},
   "source": [
    "## Project the Data onto the Lower-Dimensional Space"
   ]
  },
  {
   "cell_type": "code",
   "execution_count": null,
   "metadata": {
    "vscode": {
     "languageId": "plaintext"
    }
   },
   "outputs": [],
   "source": [
    "# Select the eigenvector corresponding to the largest eigenvalue\n",
    "eigenvector_selected = eigenvectors_sorted[:, 0]\n",
    "\n",
    "# Project the data onto the eigenvector\n",
    "data_projected = np.dot(np.vstack([class_0, class_1]), eigenvector_selected)\n",
    "\n",
    "# Create DataFrame for the projected data\n",
    "data_projected_df = pd.DataFrame(data_projected, columns=[\"Projected Data\"])\n",
    "data_projected_df['Class'] = [0] * 5 + [1] * 5\n",
    "\n",
    "print(data_projected_df)\n"
   ]
  },
  {
   "cell_type": "markdown",
   "metadata": {},
   "source": [
    "We select the eigenvector corresponding to the largest eigenvalue (first column in eigenvectors_sorted).\n",
    "\n",
    "The data is projected by taking the dot product of the data points and the selected eigenvector"
   ]
  },
  {
   "cell_type": "markdown",
   "metadata": {},
   "source": [
    "##  Create a 2D Scatter Plot of the Projected Data"
   ]
  },
  {
   "cell_type": "code",
   "execution_count": null,
   "metadata": {
    "vscode": {
     "languageId": "plaintext"
    }
   },
   "outputs": [],
   "source": [
    "# Plot the projected data\n",
    "plt.figure(figsize=(8, 6))\n",
    "for class_label in [0, 1]:\n",
    "    plt.scatter(data_projected_df[data_projected_df['Class'] == class_label].iloc[:, 0],\n",
    "                [class_label] * len(data_projected_df[data_projected_df['Class'] == class_label]),\n",
    "                label=f'Class {class_label}')\n",
    "\n",
    "plt.title(\"Projected Data onto the First Eigenvector\")\n",
    "plt.xlabel(\"Projected Value\")\n",
    "plt.yticks([0, 1], ['Class 0', 'Class 1'])\n",
    "plt.legend()\n",
    "plt.show()\n"
   ]
  },
  {
   "cell_type": "markdown",
   "metadata": {},
   "source": [
    "We plot the projected data along the x-axis and use different y-values for each class (Class 0 and Class 1) to distinguish the points.\n",
    "\n",
    "plt.scatter is used to plot the data points, and plt.legend helps to label the classes"
   ]
  }
 ],
 "metadata": {
  "language_info": {
   "name": "python"
  }
 },
 "nbformat": 4,
 "nbformat_minor": 2
}
