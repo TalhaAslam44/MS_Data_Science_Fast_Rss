{
 "cells": [
  {
   "cell_type": "markdown",
   "id": "27a05100",
   "metadata": {},
   "source": [
    "# Task\n",
    "Implement and train a feed-forward neural network with at least one hidden layer and a non-linear activation function to solve the XOR problem. The implementation should include training with backpropagation and gradient descent, and the final output should show the predicted outputs for all four XOR input pairs compared with the expected outputs."
   ]
  },
  {
   "cell_type": "markdown",
   "id": "5e47bbb9",
   "metadata": {},
   "source": [
    "## Problem setup\n",
    "\n",
    "### Subtask:\n",
    "Define the XOR input and output data.\n"
   ]
  },
  {
   "cell_type": "markdown",
   "id": "87ef86f8",
   "metadata": {},
   "source": [
    "**Reasoning**:\n",
    "Define the XOR input and output data using NumPy arrays as instructed.\n",
    "\n"
   ]
  },
  {
   "cell_type": "markdown",
   "id": "8a9a12aa",
   "metadata": {},
   "source": [
    "\n",
    "# XOR using a Deep Neural Network (library-based)\n",
    "\n",
    "**Objective:** Build a neural network (using a library) that learns the XOR truth table.\n",
    "This notebook uses **scikit-learn's MLPClassifier** (a library) to implement a small neural network.\n"
   ]
  },
  {
   "cell_type": "code",
   "execution_count": 2,
   "id": "a05969d7",
   "metadata": {},
   "outputs": [
    {
     "name": "stdout",
     "output_type": "stream",
     "text": [
      "XOR inputs:\n",
      " [[0 0]\n",
      " [0 1]\n",
      " [1 0]\n",
      " [1 1]]\n",
      "XOR outputs:\n",
      " [0 1 1 0]\n"
     ]
    }
   ],
   "source": [
    "\n",
    "# Imports and XOR data\n",
    "import numpy as np\n",
    "from sklearn.neural_network import MLPClassifier\n",
    "import matplotlib.pyplot as plt\n",
    "\n",
    "# XOR dataset\n",
    "X = np.array([[0,0],[0,1],[1,0],[1,1]])\n",
    "y = np.array([0,1,1,0])\n",
    "print(\"XOR inputs:\\n\", X)\n",
    "print(\"XOR outputs:\\n\", y)\n"
   ]
  },
  {
   "cell_type": "markdown",
   "id": "92fcb44a",
   "metadata": {},
   "source": [
    "- Build the MLP model (library)\n",
    "- We'll use one hidden layer with 3 neurons (in recommended range 2-4).\n",
    "- activation='tanh' for non-linearity in hidden layer; 'logistic' (sigmoid) used inside output via solver settings.\n",
    "- Note: MLPClassifier uses softmax/logistic internally for output probabilities depending on settings."
   ]
  },
  {
   "cell_type": "code",
   "execution_count": 3,
   "id": "77725460",
   "metadata": {},
   "outputs": [
    {
     "name": "stdout",
     "output_type": "stream",
     "text": [
      "Training finished.\n",
      "Number of iterations (epochs): 5248\n"
     ]
    }
   ],
   "source": [
    "model = MLPClassifier(hidden_layer_sizes=(3,), activation='tanh', solver='sgd', learning_rate_init=0.5, max_iter=10000, tol=1e-8, random_state=42, verbose=False)\n",
    "\n",
    "# Train the model\n",
    "model.fit(X, y)\n",
    "\n",
    "print(\"Training finished.\")\n",
    "print(\"Number of iterations (epochs):\", model.n_iter_)"
   ]
  },
  {
   "cell_type": "code",
   "execution_count": 4,
   "id": "ade87671",
   "metadata": {},
   "outputs": [
    {
     "data": {
      "image/png": "[encoded data removed]",
      "text/plain": [
       "<Figure size 600x400 with 1 Axes>"
      ]
     },
     "metadata": {},
     "output_type": "display_data"
    },
    {
     "name": "stdout",
     "output_type": "stream",
     "text": [
      "\n",
      "Inputs -> Predicted (prob) -> Predicted class -> Expected\n",
      "(np.int64(0), np.int64(0)) -> 0.0004 -> 0 -> 0\n",
      "(np.int64(0), np.int64(1)) -> 0.9995 -> 1 -> 1\n",
      "(np.int64(1), np.int64(0)) -> 0.9995 -> 1 -> 1\n",
      "(np.int64(1), np.int64(1)) -> 0.0005 -> 0 -> 0\n",
      "\n",
      "All XOR outputs predicted correctly? True\n"
     ]
    }
   ],
   "source": [
    "\n",
    "# Plot training loss curve\n",
    "plt.figure(figsize=(6,4))\n",
    "plt.plot(model.loss_curve_)\n",
    "plt.title('Training Loss Curve')\n",
    "plt.xlabel('Iteration')\n",
    "plt.ylabel('Loss')\n",
    "plt.grid(True)\n",
    "plt.tight_layout()\n",
    "plt.show()\n",
    "\n",
    "# Predictions and comparison\n",
    "pred_proba = model.predict_proba(X)[:,1]  # probability for class 1\n",
    "pred = model.predict(X)\n",
    "print(\"\\nInputs -> Predicted (prob) -> Predicted class -> Expected\")\n",
    "for xi, p, pr, e in zip(X, pred_proba, pred, y):\n",
    "    print(f\"{tuple(xi)} -> {p:.4f} -> {pr} -> {e}\")\n",
    "\n",
    "# Check if all correct\n",
    "all_correct = np.array_equal(pred, y)\n",
    "print('\\nAll XOR outputs predicted correctly?', all_correct)\n"
   ]
  },
  {
   "cell_type": "code",
   "execution_count": null,
   "id": "b1844b3b",
   "metadata": {},
   "outputs": [],
   "source": []
  }
 ],
 "metadata": {
  "kernelspec": {
   "display_name": "python",
   "language": "python",
   "name": "python3"
  },
  "language_info": {
   "codemirror_mode": {
    "name": "ipython",
    "version": 3
   },
   "file_extension": ".py",
   "mimetype": "text/x-python",
   "name": "python",
   "nbconvert_exporter": "python",
   "pygments_lexer": "ipython3",
   "version": "3.13.2"
  }
 },
 "nbformat": 4,
 "nbformat_minor": 5
}
