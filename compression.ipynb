{
 "cells": [
  {
   "cell_type": "markdown",
   "metadata": {},
   "source": [
    "## COMPRESSION"
   ]
  },
  {
   "cell_type": "code",
   "execution_count": null,
   "metadata": {},
   "outputs": [],
   "source": [
    "import fitz\n",
    "import os\n",
    "\n",
    "def compress_pdf_to_target(input_path, output_path, target_kb):\n",
    "    for quality in range(10, 0, -1):  # Try compression levels from high to low\n",
    "        doc = fitz.open(input_path)\n",
    "        \n",
    "        # Adjust compression based on quality (this is a simplified approach)\n",
    "        doc.save(output_path, garbage=4, deflate=True)\n",
    "        doc.close()\n",
    "        \n",
    "        size_kb = os.path.getsize(output_path) / 1024\n",
    "        if size_kb <= target_kb:\n",
    "            print(f\"Compressed to {int(size_kb)} KB with quality level {quality}\")\n",
    "            return True\n",
    "    print(\"Couldn't compress below target\")\n",
    "    return False\n",
    "\n",
    "# Use raw strings to handle backslashes or use double backslashes\n",
    "compress_pdf_to_target(r\"C:\\Users\\User\\Desktop\\Habib Ur Rehman Income Tax Return 2024.pdf\", r\"C:\\Users\\User\\Desktop\\Habib Ur Rehman Income Tax Return 20244.pdf\", 200)\n"
   ]
  }
 ],
 "metadata": {
  "language_info": {
   "name": "python"
  }
 },
 "nbformat": 4,
 "nbformat_minor": 2
}
